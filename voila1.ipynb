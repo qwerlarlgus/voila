{
  "nbformat": 4,
  "nbformat_minor": 0,
  "metadata": {
    "colab": {
      "name": "voila.ipynb",
      "provenance": [],
      "authorship_tag": "ABX9TyOqv1mlhT549Vw7H44oe9Ot",
      "include_colab_link": true
    },
    "kernelspec": {
      "name": "python3",
      "display_name": "Python 3"
    }
  },
  "cells": [
    {
      "cell_type": "markdown",
      "metadata": {
        "id": "view-in-github",
        "colab_type": "text"
      },
      "source": [
        "<a href=\"https://colab.research.google.com/github/qwerlarlgus/voila/blob/main/voila.ipynb\" target=\"_parent\"><img src=\"https://colab.research.google.com/assets/colab-badge.svg\" alt=\"Open In Colab\"/></a>"
      ]
    },
    {
      "cell_type": "code",
      "metadata": {
        "id": "C7tKL4FpiOM5"
      },
      "source": [
        "import ipywidgets as widgets\r\n",
        "\r\n",
        "slider = widgets.FloatSlider(description='$x$', value=4)\r\n",
        "text = widgets.FloatText(disabled=True, description='$x^2$')\r\n",
        "\r\n",
        "def compute(*ignore):\r\n",
        "    text.value = str(slider.value ** 2)\r\n",
        "    slider.observe(compute, 'value')\r\n",
        "\r\n",
        "    widgets.VBox([slider, text])\r\n",
        "\r\n",
        "\r\n",
        "import pandas as pd\r\n",
        "\r\n",
        "iris = pd.read_csv('https://raw.githubusercontent.com/mwaskom/seaborn-data/master/iris.csv')\r\n",
        "iris.tail()"
      ],
      "execution_count": null,
      "outputs": []
    },
    {
      "cell_type": "code",
      "metadata": {
        "id": "IhDouHOeiQxN"
      },
      "source": [
        ""
      ],
      "execution_count": null,
      "outputs": []
    }
  ]
}
